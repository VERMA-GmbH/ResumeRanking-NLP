{
 "cells": [
  {
   "cell_type": "code",
   "execution_count": 1,
   "metadata": {},
   "outputs": [],
   "source": [
    "import  requests\n",
    "import json\n",
    "import pandas as pd  \n",
    "import os \n",
    "import mimetypes\n",
    "import time \n"
   ]
  },
  {
   "cell_type": "code",
   "execution_count": 2,
   "metadata": {},
   "outputs": [],
   "source": [
    "job_dir = \"JobDesc\"\n",
    "resume_dir = \"Resumes\""
   ]
  },
  {
   "cell_type": "code",
   "execution_count": 3,
   "metadata": {},
   "outputs": [],
   "source": [
    "urls = {\n",
    "    \"upload_resume\" : \"https://avermass-cv-ranking.com/uploadfiles/resumes\",\n",
    "    \"upload_jobs\" : \"https://avermass-cv-ranking.com/uploadfiles/jobbdesc\",\n",
    "    \"similarity_ranking\" : \"https://avermass-cv-ranking.com/similarity-rankings\"\n",
    "}"
   ]
  },
  {
   "cell_type": "code",
   "execution_count": 4,
   "metadata": {},
   "outputs": [],
   "source": [
    "def upload_resume(client_id , resume_path, max_tries = 10):\n",
    "  payload={}\n",
    "  mime_type, _ = mimetypes.guess_type(resume_path)\n",
    "\n",
    "  # If the MIME type cannot be determined, set it to 'application/octet-stream'\n",
    "  if mime_type is None:\n",
    "      mime_type = 'application/octet-stream'\n",
    "  files=[\n",
    "    (\n",
    "        'files',\n",
    "        (\n",
    "          os.path.basename(resume_path),\n",
    "          open(resume_path,'rb'),\n",
    "          mime_type\n",
    "        )\n",
    "        ),\n",
    "    ]\n",
    "  headers = {}\n",
    "  url = urls[\"upload_resume\"] + f\"?client_id={client_id}\"\n",
    "  for i in range(max_tries):\n",
    "    response = requests.request(\"POST\", url, headers=headers, data=payload, files=files)\n",
    "    if response.status_code == 200:\n",
    "      return True, response.json()\n",
    "    time.sleep(1)\n",
    "    print(\"Retrying \", resume_path)\n",
    "  print(f\"Error uploading {resume_path}\", response.status_code, mime_type )\n",
    "  return False, response.status_code\n"
   ]
  },
  {
   "cell_type": "code",
   "execution_count": 5,
   "metadata": {},
   "outputs": [],
   "source": [
    "def upload_jobs(job_path, max_tries = 10):\n",
    "  payload={}\n",
    "  mime_type, _ = mimetypes.guess_type(job_path)\n",
    "\n",
    "  # If the MIME type cannot be determined, set it to 'application/octet-stream'\n",
    "  if mime_type is None:\n",
    "      mime_type = 'application/octet-stream'\n",
    "  files=[\n",
    "    (\n",
    "        'files',\n",
    "        (\n",
    "          os.path.basename(job_path),\n",
    "          open(job_path,'rb'),\n",
    "          mime_type\n",
    "        )\n",
    "        ),\n",
    "    ]\n",
    "  headers = {}\n",
    "  url = urls[\"upload_jobs\"] \n",
    "  for i in range(max_tries):\n",
    "    response = requests.request(\"POST\", url, headers=headers, data=payload, files=files)\n",
    "    if response.status_code == 200:\n",
    "      return True, response.json()\n",
    "    time.sleep(1)\n",
    "    print(\"Retrying \", job_path)\n",
    "  print(f\"Error uploading {job_path}\", response.status_code, mime_type)\n",
    "  return False, response.status_code"
   ]
  },
  {
   "cell_type": "code",
   "execution_count": 6,
   "metadata": {},
   "outputs": [],
   "source": [
    "def get_similarity_ranking(client_id, index = 0 ):\n",
    "  url = f\"https://avermass-cv-ranking.com/similarity-rankings?index={index}&client_id={client_id}\"\n",
    "\n",
    "  payload={'index': '0'}\n",
    "  files=[\n",
    "\n",
    "  ]\n",
    "  headers = {}\n",
    "\n",
    "  response = requests.request(\"POST\", url, headers=headers, data=payload, files=files)\n",
    "  if response.status_code == 200:\n",
    "    return response.json()\n",
    "  return False, response.status_code"
   ]
  },
  {
   "cell_type": "code",
   "execution_count": 7,
   "metadata": {},
   "outputs": [
    {
     "name": "stdout",
     "output_type": "stream",
     "text": [
      "{'jobs': '/home/vk001716/ResumeRanking-NLP/Tests/JobDesc/12.docx', 'Resume File': '67.pdf', 'Status': False, 'similariy_ranking_response': '500', 'client_id': '672153f7-6c69-4f7d-8ede-30093749c944', 'jobs_upload_response': \"{'file_names': ['12.docx'], 'client_id': '672153f7-6c69-4f7d-8ede-30093749c944', 'unprocessed_files': []}\", 'resume_upload_response': \"{'file_names': ['67.docx'], 'client_id': '672153f7-6c69-4f7d-8ede-30093749c944', 'unprocessed_files': []}\"}\n",
      "{'jobs': '/home/vk001716/ResumeRanking-NLP/Tests/JobDesc/12.docx', 'Resume File': '59.docx', 'Status': False, 'similariy_ranking_response': '504', 'client_id': '84da6f26-2c21-43dc-83c7-f74f540cbe3a', 'jobs_upload_response': \"{'file_names': ['12.docx'], 'client_id': '84da6f26-2c21-43dc-83c7-f74f540cbe3a', 'unprocessed_files': []}\", 'resume_upload_response': \"{'file_names': ['59.docx'], 'client_id': '84da6f26-2c21-43dc-83c7-f74f540cbe3a', 'unprocessed_files': []}\"}\n",
      "Retrying  /home/vk001716/ResumeRanking-NLP/Tests/JobDesc/12.docx\n",
      "Retrying  /home/vk001716/ResumeRanking-NLP/Tests/JobDesc/12.docx\n",
      "Retrying  /home/vk001716/ResumeRanking-NLP/Tests/JobDesc/12.docx\n",
      "Retrying  /home/vk001716/ResumeRanking-NLP/Tests/JobDesc/12.docx\n",
      "Retrying  /home/vk001716/ResumeRanking-NLP/Tests/JobDesc/12.docx\n",
      "{'jobs': '/home/vk001716/ResumeRanking-NLP/Tests/JobDesc/12.docx', 'Resume File': '33.pdf', 'Status': False, 'similariy_ranking_response': '400', 'client_id': 'e0cdaa2d-4f64-499b-8aaf-8f2883b1eda5', 'jobs_upload_response': \"{'file_names': ['12.docx'], 'client_id': 'e0cdaa2d-4f64-499b-8aaf-8f2883b1eda5', 'unprocessed_files': []}\", 'resume_upload_response': \"{'file_names': ['33.docx'], 'client_id': 'e0cdaa2d-4f64-499b-8aaf-8f2883b1eda5', 'unprocessed_files': []}\"}\n"
     ]
    }
   ],
   "source": [
    "df = []\n",
    "for job in [os.listdir(job_dir)[0]]:\n",
    "    job_path = os.path.join(\n",
    "            os.getcwd(),\n",
    "            job_dir,\n",
    "            job\n",
    "        )\n",
    "    for resume in os.listdir(resume_dir):\n",
    "\n",
    "        resume_path = os.path.join(\n",
    "            os.getcwd(),\n",
    "            resume_dir,\n",
    "            resume\n",
    "        )\n",
    "\n",
    "\n",
    "        to_append = {\n",
    "                \"jobs\" : job_path,\n",
    "                \"Resume File\" : resume,\n",
    "                \"Status\" : False,\n",
    "                \"similariy_ranking_response\" : \"\",\n",
    "                \"client_id\" : \"\",\n",
    "                \"jobs_upload_response\" : \"\",\n",
    "                \"resume_upload_response\"  : \"\"\n",
    "            }\n",
    "        _, upload_jobs_response = upload_jobs(job_path)\n",
    "        to_append[\"jobs_upload_response\"] = str(upload_jobs_response)\n",
    "        if _:\n",
    "            client_id = upload_jobs_response[\"client_id\"]\n",
    "            to_append[\"client_id\"] = client_id\n",
    "            _, upload_resume_response = upload_resume(client_id, resume_path, 10)\n",
    "            to_append[\"resume_upload_response\"] = str(upload_resume_response)\n",
    "            if _:\n",
    "                _, results = get_similarity_ranking(client_id=client_id)\n",
    "                to_append[\"similariy_ranking_response\"]  = str(results)\n",
    "                if _:\n",
    "                    to_append[\"Status\"] =True\n",
    "        print(to_append)\n",
    "        df.append(to_append)\n"
   ]
  },
  {
   "cell_type": "code",
   "execution_count": null,
   "metadata": {},
   "outputs": [],
   "source": [
    "df_ = pd.DataFrame(df)\n",
    "df_.to_csv(\"Test_results.csv\")"
   ]
  },
  {
   "cell_type": "code",
   "execution_count": null,
   "metadata": {},
   "outputs": [],
   "source": [
    "df_[df_.Status == False].to_csv(\"failed_results.csv\")"
   ]
  },
  {
   "cell_type": "code",
   "execution_count": null,
   "metadata": {},
   "outputs": [],
   "source": []
  }
 ],
 "metadata": {
  "kernelspec": {
   "display_name": "Python 3",
   "language": "python",
   "name": "python3"
  },
  "language_info": {
   "codemirror_mode": {
    "name": "ipython",
    "version": 3
   },
   "file_extension": ".py",
   "mimetype": "text/x-python",
   "name": "python",
   "nbconvert_exporter": "python",
   "pygments_lexer": "ipython3",
   "version": "3.10.6"
  },
  "orig_nbformat": 4
 },
 "nbformat": 4,
 "nbformat_minor": 2
}
